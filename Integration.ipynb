{
 "cells": [
  {
   "cell_type": "markdown",
   "metadata": {},
   "source": [
    "## Insurgency and EU law"
   ]
  },
  {
   "cell_type": "markdown",
   "metadata": {},
   "source": [
    "#### Integration of datasets"
   ]
  },
  {
   "cell_type": "code",
   "execution_count": 1,
   "metadata": {},
   "outputs": [],
   "source": [
    "import pandas as pd"
   ]
  },
  {
   "cell_type": "markdown",
   "metadata": {},
   "source": [
    "Function to retrieve and filter desired variables and group's names"
   ]
  },
  {
   "cell_type": "code",
   "execution_count": 2,
   "metadata": {},
   "outputs": [],
   "source": [
    "def filter_tables_groups(table, proposed_variables, group_name):\n",
    "    \"\"\"table: pandas df retrieved raw, proposed_variables: from excel sheet, group_name: varoable that correspond the group name as it is\"\"\"\n",
    "    existing_columns = list(table.columns)\n",
    "    columns_selected = list(set(proposed_variables) & set(existing_columns))\n",
    "    table = table[columns_selected]\n",
    "    groups = list(table[group_name].unique())\n",
    "    return table, groups"
   ]
  },
  {
   "cell_type": "markdown",
   "metadata": {},
   "source": [
    "---\n",
    "#### Reputation of Terror Groups (RTG) Dataset\n",
    "Description: The dataset contains all domestic terrorist groups, which defined in Enders et al. (2011) and based on Global Terrorism Database, with more than 5 terrorist attacks from 1980 to 2011. The data is in group name - year format. The data codes terrorist groups' actions which can build reputation among constituency and out-group. Researchers can found originally coded variables in regard to building positive and negative reputation among the audience as well as existing group level variables.\n",
    "\n",
    "[Link to data](http://www.efetokdemir.com/data.html)"
   ]
  },
  {
   "cell_type": "code",
   "execution_count": 3,
   "metadata": {},
   "outputs": [],
   "source": [
    "rtg_table = pd.read_stata('datasets/replicationdatajpr-oldstata.dta')"
   ]
  },
  {
   "cell_type": "code",
   "execution_count": 4,
   "metadata": {},
   "outputs": [
    {
     "data": {
      "text/html": [
       "<div>\n",
       "<style scoped>\n",
       "    .dataframe tbody tr th:only-of-type {\n",
       "        vertical-align: middle;\n",
       "    }\n",
       "\n",
       "    .dataframe tbody tr th {\n",
       "        vertical-align: top;\n",
       "    }\n",
       "\n",
       "    .dataframe thead th {\n",
       "        text-align: right;\n",
       "    }\n",
       "</style>\n",
       "<table border=\"1\" class=\"dataframe\">\n",
       "  <thead>\n",
       "    <tr style=\"text-align: right;\">\n",
       "      <th></th>\n",
       "      <th>year</th>\n",
       "      <th>gname</th>\n",
       "      <th>ffund</th>\n",
       "      <th>childrec</th>\n",
       "      <th>frec</th>\n",
       "      <th>rebel</th>\n",
       "      <th>parterr</th>\n",
       "      <th>terpwing</th>\n",
       "      <th>teraff</th>\n",
       "      <th>govcaus</th>\n",
       "      <th>...</th>\n",
       "      <th>nat</th>\n",
       "      <th>civcausreal</th>\n",
       "      <th>civcauseffreal</th>\n",
       "      <th>outnegrep</th>\n",
       "      <th>cleavage</th>\n",
       "      <th>reputation</th>\n",
       "      <th>last</th>\n",
       "      <th>counter</th>\n",
       "      <th>endedtype</th>\n",
       "      <th>endedtype2</th>\n",
       "    </tr>\n",
       "  </thead>\n",
       "  <tbody>\n",
       "    <tr>\n",
       "      <th>0</th>\n",
       "      <td>1989</td>\n",
       "      <td>1 May Group</td>\n",
       "      <td>0</td>\n",
       "      <td>0</td>\n",
       "      <td>0</td>\n",
       "      <td>0</td>\n",
       "      <td>0</td>\n",
       "      <td>0</td>\n",
       "      <td>0</td>\n",
       "      <td>1</td>\n",
       "      <td>...</td>\n",
       "      <td>0.0</td>\n",
       "      <td>0.250000</td>\n",
       "      <td>1.0</td>\n",
       "      <td>1.0</td>\n",
       "      <td>1.0</td>\n",
       "      <td>0.0</td>\n",
       "      <td>3.0</td>\n",
       "      <td>1.0</td>\n",
       "      <td>0.0</td>\n",
       "      <td>0.0</td>\n",
       "    </tr>\n",
       "    <tr>\n",
       "      <th>1</th>\n",
       "      <td>1991</td>\n",
       "      <td>1 May Group</td>\n",
       "      <td>0</td>\n",
       "      <td>0</td>\n",
       "      <td>0</td>\n",
       "      <td>0</td>\n",
       "      <td>0</td>\n",
       "      <td>0</td>\n",
       "      <td>0</td>\n",
       "      <td>0</td>\n",
       "      <td>...</td>\n",
       "      <td>0.0</td>\n",
       "      <td>2.333333</td>\n",
       "      <td>0.0</td>\n",
       "      <td>0.0</td>\n",
       "      <td>1.0</td>\n",
       "      <td>0.0</td>\n",
       "      <td>3.0</td>\n",
       "      <td>2.0</td>\n",
       "      <td>0.0</td>\n",
       "      <td>0.0</td>\n",
       "    </tr>\n",
       "    <tr>\n",
       "      <th>2</th>\n",
       "      <td>1992</td>\n",
       "      <td>1 May Group</td>\n",
       "      <td>0</td>\n",
       "      <td>0</td>\n",
       "      <td>0</td>\n",
       "      <td>0</td>\n",
       "      <td>0</td>\n",
       "      <td>0</td>\n",
       "      <td>0</td>\n",
       "      <td>0</td>\n",
       "      <td>...</td>\n",
       "      <td>0.0</td>\n",
       "      <td>0.000000</td>\n",
       "      <td>0.0</td>\n",
       "      <td>0.0</td>\n",
       "      <td>1.0</td>\n",
       "      <td>0.0</td>\n",
       "      <td>3.0</td>\n",
       "      <td>3.0</td>\n",
       "      <td>1.0</td>\n",
       "      <td>1.0</td>\n",
       "    </tr>\n",
       "    <tr>\n",
       "      <th>3</th>\n",
       "      <td>1989</td>\n",
       "      <td>16 January Organization for the Liberation of ...</td>\n",
       "      <td>0</td>\n",
       "      <td>0</td>\n",
       "      <td>0</td>\n",
       "      <td>0</td>\n",
       "      <td>0</td>\n",
       "      <td>0</td>\n",
       "      <td>0</td>\n",
       "      <td>1</td>\n",
       "      <td>...</td>\n",
       "      <td>NaN</td>\n",
       "      <td>22.625000</td>\n",
       "      <td>0.0</td>\n",
       "      <td>0.0</td>\n",
       "      <td>NaN</td>\n",
       "      <td>0.0</td>\n",
       "      <td>1.0</td>\n",
       "      <td>1.0</td>\n",
       "      <td>1.0</td>\n",
       "      <td>1.0</td>\n",
       "    </tr>\n",
       "    <tr>\n",
       "      <th>4</th>\n",
       "      <td>1983</td>\n",
       "      <td>2 April Group</td>\n",
       "      <td>0</td>\n",
       "      <td>0</td>\n",
       "      <td>0</td>\n",
       "      <td>0</td>\n",
       "      <td>0</td>\n",
       "      <td>0</td>\n",
       "      <td>0</td>\n",
       "      <td>0</td>\n",
       "      <td>...</td>\n",
       "      <td>0.0</td>\n",
       "      <td>0.000000</td>\n",
       "      <td>0.0</td>\n",
       "      <td>1.0</td>\n",
       "      <td>1.0</td>\n",
       "      <td>0.0</td>\n",
       "      <td>1.0</td>\n",
       "      <td>1.0</td>\n",
       "      <td>1.0</td>\n",
       "      <td>1.0</td>\n",
       "    </tr>\n",
       "  </tbody>\n",
       "</table>\n",
       "<p>5 rows × 50 columns</p>\n",
       "</div>"
      ],
      "text/plain": [
       "   year                                              gname  ffund  childrec  \\\n",
       "0  1989                                        1 May Group      0         0   \n",
       "1  1991                                        1 May Group      0         0   \n",
       "2  1992                                        1 May Group      0         0   \n",
       "3  1989  16 January Organization for the Liberation of ...      0         0   \n",
       "4  1983                                      2 April Group      0         0   \n",
       "\n",
       "   frec  rebel  parterr  terpwing  teraff  govcaus  ...  nat  civcausreal  \\\n",
       "0     0      0        0         0       0        1  ...  0.0     0.250000   \n",
       "1     0      0        0         0       0        0  ...  0.0     2.333333   \n",
       "2     0      0        0         0       0        0  ...  0.0     0.000000   \n",
       "3     0      0        0         0       0        1  ...  NaN    22.625000   \n",
       "4     0      0        0         0       0        0  ...  0.0     0.000000   \n",
       "\n",
       "   civcauseffreal  outnegrep  cleavage  reputation  last  counter  endedtype  \\\n",
       "0             1.0        1.0       1.0         0.0   3.0      1.0        0.0   \n",
       "1             0.0        0.0       1.0         0.0   3.0      2.0        0.0   \n",
       "2             0.0        0.0       1.0         0.0   3.0      3.0        1.0   \n",
       "3             0.0        0.0       NaN         0.0   1.0      1.0        1.0   \n",
       "4             0.0        1.0       1.0         0.0   1.0      1.0        1.0   \n",
       "\n",
       "   endedtype2  \n",
       "0         0.0  \n",
       "1         0.0  \n",
       "2         1.0  \n",
       "3         1.0  \n",
       "4         1.0  \n",
       "\n",
       "[5 rows x 50 columns]"
      ]
     },
     "execution_count": 4,
     "metadata": {},
     "output_type": "execute_result"
    }
   ],
   "source": [
    "rtg_table.head()"
   ]
  },
  {
   "cell_type": "code",
   "execution_count": 5,
   "metadata": {
    "jupyter": {
     "source_hidden": true
    }
   },
   "outputs": [],
   "source": [
    "rtg_proposed_variables = ['gname',\n",
    "'tcode',\n",
    "'ffund',\n",
    "'frec',\n",
    "'parterr',\n",
    "'terpwing',\n",
    "'teraff',\n",
    "'politics',\n",
    "'media',\n",
    "'pgood',\n",
    "'intposrep',\n",
    "'intnegrep',\n",
    "'outnegrep',\n",
    "'intnetrep',\n",
    "'netrep',\n",
    "'reputation',\n",
    "'age',\n",
    "'rebel',\n",
    "'goal',\n",
    "'broadgoal',\n",
    "'type',\n",
    "'terrstrong',\n",
    "'statespons',\n",
    "'international',\n",
    "'nmbrtrr',\n",
    "'left',\n",
    "'rel',\n",
    "'nat',\n",
    "'peaksize',\n",
    "'cleavage',\n",
    "'endedtype',\n",
    "'endedtype2',\n",
    "'govcaus',\n",
    "'educcaus',\n",
    "'civcaus',\n",
    "'nkill',\n",
    "'nkillter',\n",
    "'nwound',\n",
    "'propertycount',\n",
    "'govtargcount',\n",
    "'civtargcount',\n",
    "'eductargcount',\n",
    "'eductargexist',\n",
    "'civcausreal',\n",
    "'civcausrealeff',\n",
    "'ccodecow',\n",
    "'logarea',\n",
    "'loggdp',\n",
    "'logpop',\n",
    "'logmil']"
   ]
  },
  {
   "cell_type": "code",
   "execution_count": 6,
   "metadata": {},
   "outputs": [],
   "source": [
    "df_rtg, groups_rtg = filter_tables_groups(rtg_table, rtg_proposed_variables, 'gname')"
   ]
  },
  {
   "cell_type": "code",
   "execution_count": 7,
   "metadata": {},
   "outputs": [
    {
     "data": {
      "text/plain": [
       "(2641, 43)"
      ]
     },
     "execution_count": 7,
     "metadata": {},
     "output_type": "execute_result"
    }
   ],
   "source": [
    "df_rtg.shape"
   ]
  },
  {
   "cell_type": "code",
   "execution_count": 8,
   "metadata": {},
   "outputs": [
    {
     "data": {
      "text/plain": [
       "443"
      ]
     },
     "execution_count": 8,
     "metadata": {},
     "output_type": "execute_result"
    }
   ],
   "source": [
    "len(groups_rtg)"
   ]
  },
  {
   "cell_type": "markdown",
   "metadata": {},
   "source": [
    "---\n",
    "#### The Foundations of Rebel Group Emergence (FORGE) Dataset\n",
    "\n",
    "It provides information on the origins of violent non-state actors engaged in armed conflict against their government resulting in 25+ yearly battle deaths, active between 1946 and 2011. The unit of observation in this dataset is the rebel group organization. We also include information on the dyad and conflict in which these groups are participants for ease of integration with various Uppsala Conflict Data Program (UCDP) datasets. We draw upon the population of groups included in the Non-State Actor database described in greater detail here:\n",
    "    \n",
    "[Link to data](http://ksgleditsch.com/eacd.html)"
   ]
  },
  {
   "cell_type": "code",
   "execution_count": 9,
   "metadata": {},
   "outputs": [],
   "source": [
    "forge_table = pd.read_excel('datasets/forge_v1.0_public.xlsx')#, header=[0], sheetname='Sheet')"
   ]
  },
  {
   "cell_type": "code",
   "execution_count": 10,
   "metadata": {},
   "outputs": [
    {
     "data": {
      "text/html": [
       "<div>\n",
       "<style scoped>\n",
       "    .dataframe tbody tr th:only-of-type {\n",
       "        vertical-align: middle;\n",
       "    }\n",
       "\n",
       "    .dataframe tbody tr th {\n",
       "        vertical-align: top;\n",
       "    }\n",
       "\n",
       "    .dataframe thead th {\n",
       "        text-align: right;\n",
       "    }\n",
       "</style>\n",
       "<table border=\"1\" class=\"dataframe\">\n",
       "  <thead>\n",
       "    <tr style=\"text-align: right;\">\n",
       "      <th></th>\n",
       "      <th>conflict_id</th>\n",
       "      <th>dyadid</th>\n",
       "      <th>NSAdyadid</th>\n",
       "      <th>actorid</th>\n",
       "      <th>gacronym</th>\n",
       "      <th>gname</th>\n",
       "      <th>ccode</th>\n",
       "      <th>cname</th>\n",
       "      <th>foundloc</th>\n",
       "      <th>foundyear</th>\n",
       "      <th>...</th>\n",
       "      <th>preorgfmr</th>\n",
       "      <th>preorgrel</th>\n",
       "      <th>preorgfor</th>\n",
       "      <th>preorgref</th>\n",
       "      <th>preorgeth</th>\n",
       "      <th>preorgoth</th>\n",
       "      <th>preorgname</th>\n",
       "      <th>merger</th>\n",
       "      <th>splinter</th>\n",
       "      <th>splinterUCDP</th>\n",
       "    </tr>\n",
       "  </thead>\n",
       "  <tbody>\n",
       "    <tr>\n",
       "      <th>0</th>\n",
       "      <td>333.0</td>\n",
       "      <td>725.0</td>\n",
       "      <td>731.0</td>\n",
       "      <td>293.0</td>\n",
       "      <td>Harakat-i Inqilab-i Islami-yi Afghanistan</td>\n",
       "      <td>Movement of the Islamic Revolution/Uprising of...</td>\n",
       "      <td>700</td>\n",
       "      <td>Afghanistan</td>\n",
       "      <td>Pakistan</td>\n",
       "      <td>1978</td>\n",
       "      <td>...</td>\n",
       "      <td>0</td>\n",
       "      <td>0</td>\n",
       "      <td>0</td>\n",
       "      <td>0</td>\n",
       "      <td>0</td>\n",
       "      <td>0</td>\n",
       "      <td>Muslim Youth</td>\n",
       "      <td>0</td>\n",
       "      <td>NaN</td>\n",
       "      <td>NaN</td>\n",
       "    </tr>\n",
       "    <tr>\n",
       "      <th>1</th>\n",
       "      <td>333.0</td>\n",
       "      <td>731.0</td>\n",
       "      <td>737.0</td>\n",
       "      <td>298.0</td>\n",
       "      <td>Harakat-i Islami-yi Afghanistan</td>\n",
       "      <td>Islamic Movement</td>\n",
       "      <td>700</td>\n",
       "      <td>Afghanistan</td>\n",
       "      <td>Qom, Iran</td>\n",
       "      <td>1978</td>\n",
       "      <td>...</td>\n",
       "      <td>0</td>\n",
       "      <td>0</td>\n",
       "      <td>0</td>\n",
       "      <td>0</td>\n",
       "      <td>0</td>\n",
       "      <td>0</td>\n",
       "      <td>NaN</td>\n",
       "      <td>0</td>\n",
       "      <td>NaN</td>\n",
       "      <td>NaN</td>\n",
       "    </tr>\n",
       "    <tr>\n",
       "      <th>2</th>\n",
       "      <td>333.0</td>\n",
       "      <td>726.0</td>\n",
       "      <td>412.0</td>\n",
       "      <td>299.0</td>\n",
       "      <td>Hizb-i Islami-yi Afghanistan</td>\n",
       "      <td>Islamic Party of Afghanistan</td>\n",
       "      <td>700</td>\n",
       "      <td>Afghanistan</td>\n",
       "      <td>Pakistan</td>\n",
       "      <td>1976</td>\n",
       "      <td>...</td>\n",
       "      <td>0</td>\n",
       "      <td>0</td>\n",
       "      <td>0</td>\n",
       "      <td>0</td>\n",
       "      <td>0</td>\n",
       "      <td>0</td>\n",
       "      <td>Jam'iyyat-i Islami-yi Afghanistan</td>\n",
       "      <td>0</td>\n",
       "      <td>1.0</td>\n",
       "      <td>0.0</td>\n",
       "    </tr>\n",
       "    <tr>\n",
       "      <th>3</th>\n",
       "      <td>333.0</td>\n",
       "      <td>727.0</td>\n",
       "      <td>760.0</td>\n",
       "      <td>294.0</td>\n",
       "      <td>Hizb-i Islami-yi Afghanistan - Khalis faction</td>\n",
       "      <td>Islamic Party of Afghanistan - Khalis faction</td>\n",
       "      <td>700</td>\n",
       "      <td>Afghanistan</td>\n",
       "      <td>Khugiani, Afghanistan</td>\n",
       "      <td>1979</td>\n",
       "      <td>...</td>\n",
       "      <td>0</td>\n",
       "      <td>0</td>\n",
       "      <td>0</td>\n",
       "      <td>0</td>\n",
       "      <td>0</td>\n",
       "      <td>0</td>\n",
       "      <td>Hizb-i Islami-yi Afghanistan</td>\n",
       "      <td>0</td>\n",
       "      <td>1.0</td>\n",
       "      <td>1.0</td>\n",
       "    </tr>\n",
       "    <tr>\n",
       "      <th>4</th>\n",
       "      <td>333.0</td>\n",
       "      <td>732.0</td>\n",
       "      <td>413.0</td>\n",
       "      <td>300.0</td>\n",
       "      <td>Hizb-i Wahdat</td>\n",
       "      <td>Unity Party</td>\n",
       "      <td>700</td>\n",
       "      <td>Afghanistan</td>\n",
       "      <td>Tehran, Iran</td>\n",
       "      <td>1979</td>\n",
       "      <td>...</td>\n",
       "      <td>0</td>\n",
       "      <td>0</td>\n",
       "      <td>0</td>\n",
       "      <td>0</td>\n",
       "      <td>0</td>\n",
       "      <td>0</td>\n",
       "      <td>Sazman-i-Nasr, Sepah-i Pasdaran/Pasdaran-i-Jih...</td>\n",
       "      <td>1</td>\n",
       "      <td>0.0</td>\n",
       "      <td>NaN</td>\n",
       "    </tr>\n",
       "  </tbody>\n",
       "</table>\n",
       "<p>5 rows × 57 columns</p>\n",
       "</div>"
      ],
      "text/plain": [
       "   conflict_id  dyadid  NSAdyadid  actorid  \\\n",
       "0        333.0   725.0      731.0    293.0   \n",
       "1        333.0   731.0      737.0    298.0   \n",
       "2        333.0   726.0      412.0    299.0   \n",
       "3        333.0   727.0      760.0    294.0   \n",
       "4        333.0   732.0      413.0    300.0   \n",
       "\n",
       "                                        gacronym  \\\n",
       "0      Harakat-i Inqilab-i Islami-yi Afghanistan   \n",
       "1                Harakat-i Islami-yi Afghanistan   \n",
       "2                   Hizb-i Islami-yi Afghanistan   \n",
       "3  Hizb-i Islami-yi Afghanistan - Khalis faction   \n",
       "4                                  Hizb-i Wahdat   \n",
       "\n",
       "                                               gname  ccode        cname  \\\n",
       "0  Movement of the Islamic Revolution/Uprising of...    700  Afghanistan   \n",
       "1                                   Islamic Movement    700  Afghanistan   \n",
       "2                       Islamic Party of Afghanistan    700  Afghanistan   \n",
       "3      Islamic Party of Afghanistan - Khalis faction    700  Afghanistan   \n",
       "4                                        Unity Party    700  Afghanistan   \n",
       "\n",
       "                foundloc  foundyear  ...  preorgfmr  preorgrel  preorgfor  \\\n",
       "0               Pakistan       1978  ...          0          0          0   \n",
       "1              Qom, Iran       1978  ...          0          0          0   \n",
       "2               Pakistan       1976  ...          0          0          0   \n",
       "3  Khugiani, Afghanistan       1979  ...          0          0          0   \n",
       "4           Tehran, Iran       1979  ...          0          0          0   \n",
       "\n",
       "   preorgref  preorgeth preorgoth  \\\n",
       "0          0          0         0   \n",
       "1          0          0         0   \n",
       "2          0          0         0   \n",
       "3          0          0         0   \n",
       "4          0          0         0   \n",
       "\n",
       "                                          preorgname  merger  splinter  \\\n",
       "0                                       Muslim Youth       0       NaN   \n",
       "1                                                NaN       0       NaN   \n",
       "2                  Jam'iyyat-i Islami-yi Afghanistan       0       1.0   \n",
       "3                       Hizb-i Islami-yi Afghanistan       0       1.0   \n",
       "4  Sazman-i-Nasr, Sepah-i Pasdaran/Pasdaran-i-Jih...       1       0.0   \n",
       "\n",
       "   splinterUCDP  \n",
       "0           NaN  \n",
       "1           NaN  \n",
       "2           0.0  \n",
       "3           1.0  \n",
       "4           NaN  \n",
       "\n",
       "[5 rows x 57 columns]"
      ]
     },
     "execution_count": 10,
     "metadata": {},
     "output_type": "execute_result"
    }
   ],
   "source": [
    "forge_table.head()"
   ]
  },
  {
   "cell_type": "code",
   "execution_count": 11,
   "metadata": {
    "jupyter": {
     "source_hidden": true
    }
   },
   "outputs": [],
   "source": [
    "forge_proposed_variables = [\n",
    "    'conflict_id',\n",
    "'dyadid',\n",
    "'NSAdyadid',\n",
    "'actorid',\n",
    "'gacronym',\n",
    "'gname',\n",
    "'ccode',\n",
    "'cname',\n",
    "'foundloc',\n",
    "'foundyear',\n",
    "'foundmo',\n",
    "'foundday',\n",
    "'fightyear',\n",
    "'fightmo',\n",
    "'fightday',\n",
    "'goalnominal',\n",
    "'goalindep',\n",
    "'goalauto',\n",
    "'goalrights',\n",
    "'goalrep',\n",
    "'goalchange',\n",
    "'goaldem',\n",
    "'goalother',\n",
    "'goalnote',\n",
    "'ideology',\n",
    "'ideolcom',\n",
    "'ideolleft',\n",
    "'ideolright',\n",
    "'ideolnat',\n",
    "'ideolanti',\n",
    "'ideolrel',\n",
    "'ideoloth',\n",
    "'ideolnote',\n",
    "'religious',\n",
    "'religion',\n",
    "'ethnic',\n",
    "'ethnicity',\n",
    "'preorg',\n",
    "'preorgno',\n",
    "'preorgreb',\n",
    "'preorgpar',\n",
    "'preorgmvt',\n",
    "'preorgyou',\n",
    "'preorglab',\n",
    "'preorgrel',\n",
    "'preorgmil',\n",
    "'preorgfmr',\n",
    "'preorggov',\n",
    "'preorgfor',\n",
    "'preorgref',\n",
    "'preorgeth',\n",
    "'preorgoth',\n",
    "'preorgname',\n",
    "'merger',\n",
    "'splinter',\n",
    "'splinterUCDP'\n",
    "]"
   ]
  },
  {
   "cell_type": "code",
   "execution_count": 12,
   "metadata": {},
   "outputs": [],
   "source": [
    "df_forge, groups_forge = filter_tables_groups(forge_table, forge_proposed_variables, 'gname')"
   ]
  },
  {
   "cell_type": "code",
   "execution_count": 13,
   "metadata": {},
   "outputs": [
    {
     "data": {
      "text/plain": [
       "(430, 56)"
      ]
     },
     "execution_count": 13,
     "metadata": {},
     "output_type": "execute_result"
    }
   ],
   "source": [
    "df_forge.shape"
   ]
  },
  {
   "cell_type": "code",
   "execution_count": 14,
   "metadata": {},
   "outputs": [
    {
     "data": {
      "text/plain": [
       "415"
      ]
     },
     "execution_count": 14,
     "metadata": {},
     "output_type": "execute_result"
    }
   ],
   "source": [
    "len(groups_forge)"
   ]
  },
  {
   "cell_type": "markdown",
   "metadata": {},
   "source": [
    "---\n",
    "#### Big Allied and Dangerous (BAAD) DatasetVersion 2.0\n",
    "\n",
    "This dataset is an extract from the Big Allied and Dangerous (BAAD) Version 2.0 dataset used to create the results published in the article entitled \"Crime, Conflict and the Legitimacy Tradeoff: Explaining Variation in Insurgents' Participation in Crime\"\n",
    "The Big Allied and Dangerous (BAAD) project focuses on creation and maintenance of a comprehensive database of terrorist and insurgent organizations – collectively referred to as “violent nonstate actors” (VNSAs) – and linking that data to prominent event, insurgency, and country characteristics datasets. Big Allied and Dangerous Version 2.0. BAAD Version 2.0 (BAAD2) contains data on nearly 600 and terrorist and insurgent organizations active 1998-2015 (with extension through 2017 planned). Organized into yearly time slices, BAAD2 records information on organizational characteristics (demographics, ideology, political activity, structure, leadership, exposure to counter-terrorism activity, social service provision, and engagement in violence) and organizational network relationships (both positive and negative).\n",
    "\n",
    "[Link to data](https://dataverse.harvard.edu/dataset.xhtml?persistentId=doi:10.7910/DVN/JT6GFR)"
   ]
  },
  {
   "cell_type": "code",
   "execution_count": 15,
   "metadata": {},
   "outputs": [],
   "source": [
    "baad_table = pd.read_excel('datasets/BAAD2 Insurgency Crime Dataset.xlsx')#, header=[0], sheetname='Sheet')"
   ]
  },
  {
   "cell_type": "code",
   "execution_count": 16,
   "metadata": {},
   "outputs": [
    {
     "data": {
      "text/html": [
       "<div>\n",
       "<style scoped>\n",
       "    .dataframe tbody tr th:only-of-type {\n",
       "        vertical-align: middle;\n",
       "    }\n",
       "\n",
       "    .dataframe tbody tr th {\n",
       "        vertical-align: top;\n",
       "    }\n",
       "\n",
       "    .dataframe thead th {\n",
       "        text-align: right;\n",
       "    }\n",
       "</style>\n",
       "<table border=\"1\" class=\"dataframe\">\n",
       "  <thead>\n",
       "    <tr style=\"text-align: right;\">\n",
       "      <th></th>\n",
       "      <th>org</th>\n",
       "      <th>torg</th>\n",
       "      <th>year</th>\n",
       "      <th>torg_year</th>\n",
       "      <th>hbase</th>\n",
       "      <th>hbccode</th>\n",
       "      <th>hbiso</th>\n",
       "      <th>hb_iso_cc</th>\n",
       "      <th>left</th>\n",
       "      <th>reli</th>\n",
       "      <th>...</th>\n",
       "      <th>lead_hierarch</th>\n",
       "      <th>fddrugtk</th>\n",
       "      <th>fdextort</th>\n",
       "      <th>fdkidnap</th>\n",
       "      <th>fdrob</th>\n",
       "      <th>fdsmuggl</th>\n",
       "      <th>fdstate</th>\n",
       "      <th>ucdpbd</th>\n",
       "      <th>socsvcs</th>\n",
       "      <th>crim_degr_py</th>\n",
       "    </tr>\n",
       "  </thead>\n",
       "  <tbody>\n",
       "    <tr>\n",
       "      <th>0</th>\n",
       "      <td>Abu Sayyaf Group (ASG)</td>\n",
       "      <td>4</td>\n",
       "      <td>1998</td>\n",
       "      <td>4_1998</td>\n",
       "      <td>Philippines</td>\n",
       "      <td>840</td>\n",
       "      <td>PHL</td>\n",
       "      <td>608</td>\n",
       "      <td>0</td>\n",
       "      <td>1</td>\n",
       "      <td>...</td>\n",
       "      <td>1</td>\n",
       "      <td>1</td>\n",
       "      <td>1</td>\n",
       "      <td>1</td>\n",
       "      <td>1</td>\n",
       "      <td>1</td>\n",
       "      <td>0</td>\n",
       "      <td>55</td>\n",
       "      <td>0</td>\n",
       "      <td>NaN</td>\n",
       "    </tr>\n",
       "    <tr>\n",
       "      <th>1</th>\n",
       "      <td>Abu Sayyaf Group (ASG)</td>\n",
       "      <td>4</td>\n",
       "      <td>1999</td>\n",
       "      <td>4_1999</td>\n",
       "      <td>Philippines</td>\n",
       "      <td>840</td>\n",
       "      <td>PHL</td>\n",
       "      <td>608</td>\n",
       "      <td>0</td>\n",
       "      <td>1</td>\n",
       "      <td>...</td>\n",
       "      <td>1</td>\n",
       "      <td>1</td>\n",
       "      <td>1</td>\n",
       "      <td>1</td>\n",
       "      <td>1</td>\n",
       "      <td>1</td>\n",
       "      <td>0</td>\n",
       "      <td>0</td>\n",
       "      <td>0</td>\n",
       "      <td>1.0</td>\n",
       "    </tr>\n",
       "    <tr>\n",
       "      <th>2</th>\n",
       "      <td>Abu Sayyaf Group (ASG)</td>\n",
       "      <td>4</td>\n",
       "      <td>2000</td>\n",
       "      <td>4_2000</td>\n",
       "      <td>Philippines</td>\n",
       "      <td>840</td>\n",
       "      <td>PHL</td>\n",
       "      <td>608</td>\n",
       "      <td>0</td>\n",
       "      <td>1</td>\n",
       "      <td>...</td>\n",
       "      <td>0</td>\n",
       "      <td>1</td>\n",
       "      <td>1</td>\n",
       "      <td>1</td>\n",
       "      <td>1</td>\n",
       "      <td>1</td>\n",
       "      <td>0</td>\n",
       "      <td>379</td>\n",
       "      <td>0</td>\n",
       "      <td>0.0</td>\n",
       "    </tr>\n",
       "    <tr>\n",
       "      <th>3</th>\n",
       "      <td>Abu Sayyaf Group (ASG)</td>\n",
       "      <td>4</td>\n",
       "      <td>2001</td>\n",
       "      <td>4_2001</td>\n",
       "      <td>Philippines</td>\n",
       "      <td>840</td>\n",
       "      <td>PHL</td>\n",
       "      <td>608</td>\n",
       "      <td>0</td>\n",
       "      <td>1</td>\n",
       "      <td>...</td>\n",
       "      <td>0</td>\n",
       "      <td>1</td>\n",
       "      <td>1</td>\n",
       "      <td>1</td>\n",
       "      <td>1</td>\n",
       "      <td>1</td>\n",
       "      <td>0</td>\n",
       "      <td>333</td>\n",
       "      <td>0</td>\n",
       "      <td>0.0</td>\n",
       "    </tr>\n",
       "    <tr>\n",
       "      <th>4</th>\n",
       "      <td>Abu Sayyaf Group (ASG)</td>\n",
       "      <td>4</td>\n",
       "      <td>2002</td>\n",
       "      <td>4_2002</td>\n",
       "      <td>Philippines</td>\n",
       "      <td>840</td>\n",
       "      <td>PHL</td>\n",
       "      <td>608</td>\n",
       "      <td>0</td>\n",
       "      <td>1</td>\n",
       "      <td>...</td>\n",
       "      <td>0</td>\n",
       "      <td>1</td>\n",
       "      <td>1</td>\n",
       "      <td>1</td>\n",
       "      <td>1</td>\n",
       "      <td>1</td>\n",
       "      <td>0</td>\n",
       "      <td>249</td>\n",
       "      <td>0</td>\n",
       "      <td>1.0</td>\n",
       "    </tr>\n",
       "  </tbody>\n",
       "</table>\n",
       "<p>5 rows × 24 columns</p>\n",
       "</div>"
      ],
      "text/plain": [
       "                      org  torg  year torg_year        hbase  hbccode hbiso  \\\n",
       "0  Abu Sayyaf Group (ASG)     4  1998    4_1998  Philippines      840   PHL   \n",
       "1  Abu Sayyaf Group (ASG)     4  1999    4_1999  Philippines      840   PHL   \n",
       "2  Abu Sayyaf Group (ASG)     4  2000    4_2000  Philippines      840   PHL   \n",
       "3  Abu Sayyaf Group (ASG)     4  2001    4_2001  Philippines      840   PHL   \n",
       "4  Abu Sayyaf Group (ASG)     4  2002    4_2002  Philippines      840   PHL   \n",
       "\n",
       "   hb_iso_cc  left  reli  ...  lead_hierarch  fddrugtk  fdextort  fdkidnap  \\\n",
       "0        608     0     1  ...              1         1         1         1   \n",
       "1        608     0     1  ...              1         1         1         1   \n",
       "2        608     0     1  ...              0         1         1         1   \n",
       "3        608     0     1  ...              0         1         1         1   \n",
       "4        608     0     1  ...              0         1         1         1   \n",
       "\n",
       "   fdrob  fdsmuggl  fdstate  ucdpbd  socsvcs  crim_degr_py  \n",
       "0      1         1        0      55        0           NaN  \n",
       "1      1         1        0       0        0           1.0  \n",
       "2      1         1        0     379        0           0.0  \n",
       "3      1         1        0     333        0           0.0  \n",
       "4      1         1        0     249        0           1.0  \n",
       "\n",
       "[5 rows x 24 columns]"
      ]
     },
     "execution_count": 16,
     "metadata": {},
     "output_type": "execute_result"
    }
   ],
   "source": [
    "baad_table.head()"
   ]
  },
  {
   "cell_type": "code",
   "execution_count": 17,
   "metadata": {
    "jupyter": {
     "source_hidden": true
    }
   },
   "outputs": [],
   "source": [
    "baad_proposed_variables = [\n",
    "'ORG',\n",
    "'TORG',\n",
    "'YEAR',\n",
    "'TORG_YEAR',\n",
    "'HBASE',\n",
    "'HBCCODE',\n",
    "'HBISO',\n",
    "'HB_ISO_CC',\n",
    "'LEFT',\n",
    "'RELI',\n",
    "'ETHN',\n",
    "'AGE',\n",
    "'SIZE_REC',\n",
    "'TERRCNTRL',\n",
    "'LEAD_HIERARCH',\n",
    "'FDDRUGTK',\n",
    "'FDEXTORT',\n",
    "'FDKIDNAP',\n",
    "'FDROB',\n",
    "'FDSMUGGL',\n",
    "'FDSTATE',\n",
    "'UCDPBD',\n",
    "'SOCSVCS',\n",
    "'CRIM_DEGR_PY'\n",
    "]\n"
   ]
  },
  {
   "cell_type": "code",
   "execution_count": 18,
   "metadata": {},
   "outputs": [],
   "source": [
    "baad_proposed_variables = [x.lower() for x in baad_proposed_variables]"
   ]
  },
  {
   "cell_type": "code",
   "execution_count": 19,
   "metadata": {},
   "outputs": [],
   "source": [
    "df_baad, groups_baad = filter_tables_groups(baad_table, baad_proposed_variables, 'org')"
   ]
  },
  {
   "cell_type": "code",
   "execution_count": 20,
   "metadata": {},
   "outputs": [
    {
     "data": {
      "text/plain": [
       "(1386, 24)"
      ]
     },
     "execution_count": 20,
     "metadata": {},
     "output_type": "execute_result"
    }
   ],
   "source": [
    "df_baad.shape"
   ]
  },
  {
   "cell_type": "code",
   "execution_count": 21,
   "metadata": {},
   "outputs": [
    {
     "data": {
      "text/plain": [
       "140"
      ]
     },
     "execution_count": 21,
     "metadata": {},
     "output_type": "execute_result"
    }
   ],
   "source": [
    "len(groups_baad)"
   ]
  },
  {
   "cell_type": "markdown",
   "metadata": {},
   "source": [
    "---\n",
    "#### Intersections"
   ]
  },
  {
   "cell_type": "code",
   "execution_count": 25,
   "metadata": {},
   "outputs": [
    {
     "name": "stdout",
     "output_type": "stream",
     "text": [
      "Rebel groups per dataset\n",
      "FORGE: 415\n",
      "RTG: 443\n",
      "BAAD: 140\n"
     ]
    }
   ],
   "source": [
    "print('Rebel groups per dataset\\nFORGE: {}\\nRTG: {}\\nBAAD: {}'\\\n",
    "      .format(len(groups_forge), len(groups_rtg), len(groups_baad)))"
   ]
  },
  {
   "cell_type": "code",
   "execution_count": 26,
   "metadata": {},
   "outputs": [
    {
     "data": {
      "text/plain": [
       "14"
      ]
     },
     "execution_count": 26,
     "metadata": {},
     "output_type": "execute_result"
    }
   ],
   "source": [
    "len(set(groups_forge) & set(groups_rtg))"
   ]
  },
  {
   "cell_type": "code",
   "execution_count": 27,
   "metadata": {},
   "outputs": [
    {
     "data": {
      "text/plain": [
       "69"
      ]
     },
     "execution_count": 27,
     "metadata": {},
     "output_type": "execute_result"
    }
   ],
   "source": [
    "len(set(groups_baad) & set(groups_rtg))"
   ]
  },
  {
   "cell_type": "code",
   "execution_count": 28,
   "metadata": {},
   "outputs": [
    {
     "data": {
      "text/plain": [
       "17"
      ]
     },
     "execution_count": 28,
     "metadata": {},
     "output_type": "execute_result"
    }
   ],
   "source": [
    "len(set(groups_baad) & set(groups_forge))"
   ]
  },
  {
   "cell_type": "code",
   "execution_count": 29,
   "metadata": {},
   "outputs": [
    {
     "data": {
      "text/plain": [
       "{'Al-Shabaab', 'Karen National Union', 'Oromo Liberation Front'}"
      ]
     },
     "execution_count": 29,
     "metadata": {},
     "output_type": "execute_result"
    }
   ],
   "source": [
    "set(groups_baad) & set(groups_forge) & set(groups_rtg)"
   ]
  },
  {
   "cell_type": "markdown",
   "metadata": {},
   "source": [
    "#### Only 3 extact matches among the 3 datasets"
   ]
  },
  {
   "cell_type": "code",
   "execution_count": 31,
   "metadata": {},
   "outputs": [],
   "source": [
    "pd.Series(groups_baad).to_csv('groups_baad.csv')\n",
    "pd.Series(groups_forge).to_csv('groups_forge.csv')\n",
    "pd.Series(groups_rtg).to_csv('groups_rtg.csv')"
   ]
  },
  {
   "cell_type": "code",
   "execution_count": null,
   "metadata": {},
   "outputs": [],
   "source": []
  }
 ],
 "metadata": {
  "kernelspec": {
   "display_name": "Python 3",
   "language": "python",
   "name": "python3"
  },
  "language_info": {
   "codemirror_mode": {
    "name": "ipython",
    "version": 3
   },
   "file_extension": ".py",
   "mimetype": "text/x-python",
   "name": "python",
   "nbconvert_exporter": "python",
   "pygments_lexer": "ipython3",
   "version": "3.7.6"
  }
 },
 "nbformat": 4,
 "nbformat_minor": 4
}
